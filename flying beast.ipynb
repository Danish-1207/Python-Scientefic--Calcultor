{
 "cells": [
  {
   "cell_type": "code",
   "execution_count": 1,
   "metadata": {},
   "outputs": [
    {
     "name": "stdout",
     "output_type": "stream",
     "text": [
      "Hey.. What is your Name hitesh\n",
      "Time sinc you take last bath 38\n",
      "Choose your activity type \n",
      " Low Activit  \n",
      " High Activity \n",
      "low\n",
      "Choose Season.. \n",
      "1. Summer \n",
      "2. Winter \n",
      "summer\n",
      "Hitesh It's Optional to change shirt... Ok\n"
     ]
    }
   ],
   "source": [
    "Name = input(\"Hey.. What is your Name \").capitalize()\n",
    "time = int(input(\"Time sinc you take last bath \"))\n",
    "activity = input(\"Choose your activity type \\n Low Activit  \\n High Activity \\n\").casefold()\n",
    "season = input(\"Choose Season.. \\n1. Summer \\n2. Winter \\n\").casefold()\n",
    "if (time < 12):\n",
    "    print(Name,\"Pagal hai bhai...NO NEED\")\n",
    "elif(time > 12 and 24 >= time):\n",
    "    if(activity == \"low\" or activity ==\"low activity\"):\n",
    "        if(season == \"summer\"):\n",
    "            ask = str(input(\"Do You have girl friend \"))\n",
    "            if(ask == \"yes\"):\n",
    "                print(Name,\"No need to change.. You can lie\")\n",
    "            elif(ask == \"no\"):\n",
    "                print(Name,\"bhai ab gf bhi nahi hai kya darna\")\n",
    "            else:\n",
    "                print()\n",
    "        else:\n",
    "            print(Name,\"No need to change\")\n",
    "            \n",
    "    elif(activity == \"high\" or activity ==\"high activity\"):\n",
    "        if(season == \"summer\"):\n",
    "            print(Name,\"Big no for shorts use deo for shirt\")\n",
    "        else:\n",
    "            print(Name,\"No way you crazy shit\")\n",
    "    else:\n",
    "        print()\n",
    "elif(48 > time and time > 24):\n",
    "    if(activity == \"low\" or activity ==\"low activity\"):\n",
    "        if(season == \"summer\"):\n",
    "            print(Name,\"It's Optional to change shirt... Ok\")\n",
    "        else:\n",
    "            print(Name,\"No need to change anything anna\")\n",
    "    elif(activity == \"high\" or activity ==\"high activity\"):\n",
    "        if(season == \"summer\"):\n",
    "            print(Name,\"Change Shirt but Shorts is optional\")\n",
    "        else:\n",
    "            print(Name,\"It's okay to change shirt but big no for shorts\")\n",
    "    else:\n",
    "        print()\n",
    "elif(time>48):\n",
    "    if(activity == \"low\" or activity ==\"low activity\"):\n",
    "        if(season == \"summer\"):\n",
    "            print(Name,\"Change both\")\n",
    "        else:\n",
    "            print(Name,\"No need to change\")\n",
    "    elif(activity == \"high\" or activity ==\"high activity\"):\n",
    "        if(season == \"summer\"):\n",
    "            print(Name,\"Change both\")\n",
    "        else:\n",
    "            print(Name,\"Change only shirt\")\n",
    "    else:\n",
    "        print()\n",
    "else:\n",
    "    print()"
   ]
  },
  {
   "cell_type": "code",
   "execution_count": 2,
   "metadata": {},
   "outputs": [
    {
     "name": "stdout",
     "output_type": "stream",
     "text": [
      "2\n",
      "Not Weird\n"
     ]
    }
   ],
   "source": [
    "\n",
    "n = int(input())\n",
    "\n",
    "if(n>20 and n%2==0):\n",
    "    print(\"Weird\")\n",
    "elif (n in range(2,6) and n%2==0):\n",
    "    print(\"Not Weird\")\n",
    "elif(n in range(6,21) and  n%2==0):\n",
    "    print(\" Weird\")\n",
    "elif(n % 2 != 0):\n",
    "    print(\"Not Weird\")\n"
   ]
  },
  {
   "cell_type": "code",
   "execution_count": null,
   "metadata": {},
   "outputs": [],
   "source": []
  }
 ],
 "metadata": {
  "kernelspec": {
   "display_name": "Python 3",
   "language": "python",
   "name": "python3"
  },
  "language_info": {
   "codemirror_mode": {
    "name": "ipython",
    "version": 3
   },
   "file_extension": ".py",
   "mimetype": "text/x-python",
   "name": "python",
   "nbconvert_exporter": "python",
   "pygments_lexer": "ipython3",
   "version": "3.7.6"
  }
 },
 "nbformat": 4,
 "nbformat_minor": 4
}
